{
  "cells": [
    {
      "attachments": {},
      "cell_type": "markdown",
      "metadata": {},
      "source": [
        "\n",
        "# 3D Darcy flow\n",
        "\n",
        "Here we illustrate Darcy flow in a heterogeneous 3D body. We use the general\n",
        ":py:func:`pygimli.solver.solveFiniteElements` to solve Darcy's law:\n",
        "\n",
        "$\\begin{align}\\nabla \\cdot(K \\nabla p)=0\\end{align}$\n",
        "\n",
        "The sought hydraulic velocity distribution can then be calculated as the\n",
        "gradient field of $\\mathbf{v}=-\\nabla p$.\n"
      ]
    },
    {
      "cell_type": "code",
      "execution_count": 18,
      "metadata": {},
      "outputs": [],
      "source": [
        "import numpy as np\n",
        "import pygimli as pg\n",
        "import pygimli.meshtools as mt\n",
        "import pyvista\n",
        "from pygimli.viewer.pv import drawStreamLines, drawSlice"
      ]
    },
    {
      "attachments": {},
      "cell_type": "markdown",
      "metadata": {},
      "source": [
        "#### Create Mesh"
      ]
    },
    {
      "cell_type": "code",
      "execution_count": 19,
      "metadata": {
        "collapsed": false
      },
      "outputs": [],
      "source": [
        "plc = mt.createCube(size=[40, 20, 15], marker=1, boundaryMarker=0)\n",
        "cube = mt.createCube(size=[15, 15, 8], marker=2, boundaryMarker=0)\n",
        "geom = plc + cube\n",
        "\n",
        "mesh = mt.createMesh(geom, area=4)"
      ]
    },
    {
      "attachments": {},
      "cell_type": "markdown",
      "metadata": {},
      "source": [
        "#### Set Boundary Conditions"
      ]
    },
    {
      "cell_type": "code",
      "execution_count": 20,
      "metadata": {},
      "outputs": [],
      "source": [
        "for bound in mesh.boundaries():\n",
        "    x = bound.center().x()\n",
        "    if x == mesh.xmin():\n",
        "        bound.setMarker(1)\n",
        "    elif x == mesh.xmax():\n",
        "        bound.setMarker(2)\n",
        "\n",
        "\n",
        "bc = {\"Dirichlet\": {1: 20.0, 2: 10.0}}\n",
        "\n"
      ]
    },
    {
      "attachments": {},
      "cell_type": "markdown",
      "metadata": {},
      "source": [
        "#### Define permeability"
      ]
    },
    {
      "cell_type": "code",
      "execution_count": 27,
      "metadata": {},
      "outputs": [],
      "source": [
        "kMap = {1: 1e-4, 2: 1e-6}\n",
        "kArray = pg.solver.parseMapToCellArray(list(kMap), mesh) # dict does not work\n",
        "kArray2 = np.column_stack([kArray] * 3)"
      ]
    },
    {
      "attachments": {},
      "cell_type": "markdown",
      "metadata": {},
      "source": [
        "#### Solve the equations"
      ]
    },
    {
      "cell_type": "code",
      "execution_count": 22,
      "metadata": {},
      "outputs": [
        {
          "data": {
            "text/plain": [
              "(<pyvista.plotting.plotting.Plotter at 0x2664b56ebb0>, None)"
            ]
          },
          "execution_count": 22,
          "metadata": {},
          "output_type": "execute_result"
        }
      ],
      "source": [
        "h = pg.solver.solveFiniteElements(mesh, kMap, bc=bc)\n",
        "vel = -pg.solver.grad(mesh, h) * kArray\n",
        "pg.show(mesh, h, label=\"Hydraulic head (m)\")"
      ]
    },
    {
      "cell_type": "code",
      "execution_count": 26,
      "metadata": {},
      "outputs": [
        {
          "data": {
            "text/plain": [
              "<pyvista.plotting.plotting.Plotter at 0x2664b4f81c0>"
            ]
          },
          "execution_count": 26,
          "metadata": {},
          "output_type": "execute_result"
        }
      ],
      "source": [
        "ax, _ = pg.show(mesh, alpha=0.3, hold=True, colorBar=False)\n",
        "drawStreamLines(ax, mesh, vel, radius=.1, source_radius=10)\n",
        "drawSlice(ax, mesh, normal=[0,1,0], data=pg.abs(vel), label=\"Absolute velocity\")\n",
        "# ax.show()"
      ]
    }
  ],
  "metadata": {
    "kernelspec": {
      "display_name": "Python 3",
      "language": "python",
      "name": "python3"
    },
    "language_info": {
      "codemirror_mode": {
        "name": "ipython",
        "version": 3
      },
      "file_extension": ".py",
      "mimetype": "text/x-python",
      "name": "python",
      "nbconvert_exporter": "python",
      "pygments_lexer": "ipython3",
      "version": "3.8.15 | packaged by conda-forge | (default, Nov 22 2022, 08:42:03) [MSC v.1929 64 bit (AMD64)]"
    },
    "vscode": {
      "interpreter": {
        "hash": "31524cf3bfd57b0e401be1081674a1461cae6152637126cc6d051e58b1b025a8"
      }
    }
  },
  "nbformat": 4,
  "nbformat_minor": 0
}
